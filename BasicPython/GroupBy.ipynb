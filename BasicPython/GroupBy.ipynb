{
 "cells": [
  {
   "cell_type": "markdown",
   "id": "83036dca",
   "metadata": {},
   "source": [
    "# pandas.DataFrame.groupby\n",
    "Documentation: [Link](https://pandas.pydata.org/docs/reference/api/pandas.DataFrame.groupby.html) \n",
    "\n",
    "Kaggle Dataset: [Link](https://www.kaggle.com/datasets/malakhussien220/student-habits-performance)"
   ]
  },
  {
   "cell_type": "code",
   "execution_count": null,
   "id": "7e0b456f",
   "metadata": {},
   "outputs": [],
   "source": [
    "import pandas as pd;\n",
    "import matplotlib.pyplot as plt"
   ]
  },
  {
   "cell_type": "code",
   "execution_count": null,
   "id": "29e1ad25",
   "metadata": {},
   "outputs": [],
   "source": [
    "studentData = pd.read_csv(\"../data/StudentHabit/student_habits_performance.csv\");\n",
    "studentData.head(15)"
   ]
  },
  {
   "cell_type": "markdown",
   "id": "f56d508d",
   "metadata": {},
   "source": [
    "**Groupby - Single Group & Single Column**"
   ]
  },
  {
   "cell_type": "code",
   "execution_count": null,
   "id": "7cfda87e",
   "metadata": {},
   "outputs": [],
   "source": [
    "temp = studentData.groupby([\"age\"])[\"study_hours_per_day\"].sum();"
   ]
  },
  {
   "cell_type": "code",
   "execution_count": null,
   "id": "c4a08ab4",
   "metadata": {},
   "outputs": [],
   "source": [
    "temp.head()"
   ]
  },
  {
   "cell_type": "markdown",
   "id": "ff89c2f6",
   "metadata": {},
   "source": [
    "**Groupby - Single Group & Multiple Columns**"
   ]
  },
  {
   "cell_type": "code",
   "execution_count": null,
   "id": "f53c1a6b",
   "metadata": {},
   "outputs": [],
   "source": [
    "temp = studentData.groupby([\"age\"])[[\"study_hours_per_day\",\"social_media_hours\"]].sum();"
   ]
  },
  {
   "cell_type": "code",
   "execution_count": null,
   "id": "a0137b28",
   "metadata": {},
   "outputs": [],
   "source": [
    "temp.head()"
   ]
  },
  {
   "cell_type": "markdown",
   "id": "a1465613",
   "metadata": {},
   "source": [
    "**Groupby - Multiple Groups & Single Column**"
   ]
  },
  {
   "cell_type": "code",
   "execution_count": null,
   "id": "762ce3e6",
   "metadata": {},
   "outputs": [],
   "source": [
    "temp = studentData.groupby([\"age\",\"gender\"])[\"study_hours_per_day\"].sum();"
   ]
  },
  {
   "cell_type": "code",
   "execution_count": null,
   "id": "d9be20b6",
   "metadata": {},
   "outputs": [],
   "source": [
    "temp.head(25)"
   ]
  },
  {
   "cell_type": "code",
   "execution_count": null,
   "id": "8bd6222e",
   "metadata": {},
   "outputs": [],
   "source": [
    "temp = studentData.groupby([\"age\",\"gender\"],as_index=False)[\"study_hours_per_day\"].sum();"
   ]
  },
  {
   "cell_type": "code",
   "execution_count": null,
   "id": "55d91ba1",
   "metadata": {},
   "outputs": [],
   "source": [
    "temp.head(25)"
   ]
  },
  {
   "cell_type": "markdown",
   "id": "cf71260e",
   "metadata": {},
   "source": [
    "**Groupby - Multiple Groups Multiple Columns**"
   ]
  },
  {
   "cell_type": "code",
   "execution_count": null,
   "id": "d574e9f7",
   "metadata": {},
   "outputs": [],
   "source": [
    "temp = studentData.groupby([\"age\",\"gender\"],as_index=False)[[\"study_hours_per_day\",\"social_media_hours\"]].sum();"
   ]
  },
  {
   "cell_type": "code",
   "execution_count": null,
   "id": "9b340807",
   "metadata": {},
   "outputs": [],
   "source": [
    "temp.head(25)"
   ]
  },
  {
   "cell_type": "markdown",
   "id": "10b54eab",
   "metadata": {},
   "source": [
    "**Groupby - Multiple Functions**"
   ]
  },
  {
   "cell_type": "code",
   "execution_count": null,
   "id": "03021b2f",
   "metadata": {},
   "outputs": [],
   "source": [
    "temp = studentData.groupby([\"age\",\"gender\"],as_index=False)[[\"study_hours_per_day\",\"social_media_hours\"]].agg([\"mean\",\"sum\",\"median\"]);"
   ]
  },
  {
   "cell_type": "code",
   "execution_count": null,
   "id": "ab3c7c9c",
   "metadata": {},
   "outputs": [],
   "source": [
    "temp.head(25)"
   ]
  },
  {
   "cell_type": "markdown",
   "id": "0310a2f1",
   "metadata": {},
   "source": [
    "**Advanced - Create age groups**"
   ]
  },
  {
   "cell_type": "code",
   "execution_count": null,
   "id": "a6a08736",
   "metadata": {},
   "outputs": [],
   "source": [
    "bins = [0, 22, 35, 150]  # Ranges: 0-22, 23 - 35 , 31 - 150\n",
    "labels = ['Young', 'Middle', 'Senior']\n",
    "studentData['age_groups'] = pd.cut(studentData['age'], bins=bins, labels=labels);"
   ]
  },
  {
   "cell_type": "code",
   "execution_count": null,
   "id": "06170732",
   "metadata": {},
   "outputs": [],
   "source": [
    "studentData.head(30)"
   ]
  },
  {
   "cell_type": "code",
   "execution_count": null,
   "id": "67497256",
   "metadata": {},
   "outputs": [],
   "source": [
    "temp = studentData.groupby(\"age_groups\")[[\"study_hours_per_day\",\"social_media_hours\"]].sum();"
   ]
  },
  {
   "cell_type": "code",
   "execution_count": null,
   "id": "779b673e",
   "metadata": {},
   "outputs": [],
   "source": [
    "temp.head(30)"
   ]
  }
 ],
 "metadata": {
  "kernelspec": {
   "display_name": ".venv",
   "language": "python",
   "name": "python3"
  },
  "language_info": {
   "codemirror_mode": {
    "name": "ipython",
    "version": 3
   },
   "file_extension": ".py",
   "mimetype": "text/x-python",
   "name": "python",
   "nbconvert_exporter": "python",
   "pygments_lexer": "ipython3",
   "version": "3.10.12"
  }
 },
 "nbformat": 4,
 "nbformat_minor": 5
}
