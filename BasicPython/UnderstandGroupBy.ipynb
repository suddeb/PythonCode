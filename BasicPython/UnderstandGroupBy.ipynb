{
 "cells": [
  {
   "cell_type": "markdown",
   "id": "75820463",
   "metadata": {},
   "source": [
    "<a href=\"https://colab.research.google.com/github/suddeb/PythonCode/blob/main/KaggleSetupInGoogleColab.ipynb\" target=\"_parent\"><img src=\"https://colab.research.google.com/assets/colab-badge.svg\" alt=\"Open In Colab\"/></a>\n"
   ]
  }
 ],
 "metadata": {
  "language_info": {
   "name": "python"
  }
 },
 "nbformat": 4,
 "nbformat_minor": 5
}
