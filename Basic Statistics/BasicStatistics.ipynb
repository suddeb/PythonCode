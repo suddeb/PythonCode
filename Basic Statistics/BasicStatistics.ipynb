{
 "cells": [
  {
   "cell_type": "code",
   "execution_count": 2,
   "metadata": {},
   "outputs": [
    {
     "name": "stdout",
     "output_type": "stream",
     "text": [
      "Mean:  32\n"
     ]
    }
   ],
   "source": [
    "import statistics as st\n",
    "\n",
    "data = [7,5,78,56,10,4,9,87]\n",
    "\n",
    "mean = st.mean(data)\n",
    "print(\"Mean: \", mean)"
   ]
  },
  {
   "cell_type": "code",
   "execution_count": 3,
   "metadata": {},
   "outputs": [
    {
     "name": "stdout",
     "output_type": "stream",
     "text": [
      "Standard Deviation:  35.59293669897362\n"
     ]
    }
   ],
   "source": [
    "standrd_deviation = st.stdev(data)\n",
    "print(\"Standard Deviation: \", standrd_deviation)"
   ]
  }
 ],
 "metadata": {
  "kernelspec": {
   "display_name": "Python 3",
   "language": "python",
   "name": "python3"
  },
  "language_info": {
   "codemirror_mode": {
    "name": "ipython",
    "version": 3
   },
   "file_extension": ".py",
   "mimetype": "text/x-python",
   "name": "python",
   "nbconvert_exporter": "python",
   "pygments_lexer": "ipython3",
   "version": "3.10.12"
  }
 },
 "nbformat": 4,
 "nbformat_minor": 2
}
