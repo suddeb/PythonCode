{
 "cells": [
  {
   "cell_type": "code",
   "execution_count": null,
   "metadata": {},
   "outputs": [
    {
     "data": {
      "text/plain": [
       "array([  0.        ,  20.83333333,  41.66666667,  62.5       ,\n",
       "        83.33333333, 104.16666667, 125.        , 145.83333333,\n",
       "       166.66666667, 187.5       , 208.33333333, 229.16666667,\n",
       "       250.        , 270.83333333, 291.66666667, 312.5       ,\n",
       "       333.33333333, 354.16666667, 375.        , 395.83333333,\n",
       "       416.66666667, 437.5       , 458.33333333, 479.16666667,\n",
       "       500.        ])"
      ]
     },
     "execution_count": 1,
     "metadata": {},
     "output_type": "execute_result"
    }
   ],
   "source": [
    "import numpy as np\n",
    "\n",
    "data = np.linspace(0, 500, 25)\n",
    "data"
   ]
  },
  {
   "cell_type": "code",
   "execution_count": 2,
   "metadata": {},
   "outputs": [
    {
     "data": {
      "text/plain": [
       "array([ 0.        ,  1.42857143,  2.85714286,  4.28571429,  5.71428571,\n",
       "        7.14285714,  8.57142857, 10.        , 11.42857143, 12.85714286,\n",
       "       14.28571429, 15.71428571, 17.14285714, 18.57142857, 20.        ])"
      ]
     },
     "execution_count": 2,
     "metadata": {},
     "output_type": "execute_result"
    }
   ],
   "source": [
    "# Create an array of 15 evenly spaced numbers between 0 and 20\n",
    "data = np.linspace(0, 20, num = 15)\n",
    "data"
   ]
  },
  {
   "cell_type": "code",
   "execution_count": 4,
   "metadata": {},
   "outputs": [
    {
     "name": "stdout",
     "output_type": "stream",
     "text": [
      "Returned Array:  [  0.           4.16666667   8.33333333  12.5         16.66666667\n",
      "  20.83333333  25.          29.16666667  33.33333333  37.5\n",
      "  41.66666667  45.83333333  50.          54.16666667  58.33333333\n",
      "  62.5         66.66666667  70.83333333  75.          79.16666667\n",
      "  83.33333333  87.5         91.66666667  95.83333333 100.        ]\n",
      "Step Size:  4.166666666666667\n"
     ]
    }
   ],
   "source": [
    "# Get the array and step size together\n",
    "data, step_size = np.linspace(0 , 100 , num=25, retstep=True)\n",
    "print(\"Returned Array: \", data)\n",
    "print(\"Step Size: \", step_size)"
   ]
  }
 ],
 "metadata": {
  "kernelspec": {
   "display_name": "Python 3",
   "language": "python",
   "name": "python3"
  },
  "language_info": {
   "codemirror_mode": {
    "name": "ipython",
    "version": 3
   },
   "file_extension": ".py",
   "mimetype": "text/x-python",
   "name": "python",
   "nbconvert_exporter": "python",
   "pygments_lexer": "ipython3",
   "version": "3.10.12"
  }
 },
 "nbformat": 4,
 "nbformat_minor": 2
}
