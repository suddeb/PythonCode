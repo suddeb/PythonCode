{
 "cells": [
  {
   "cell_type": "markdown",
   "metadata": {},
   "source": [
    "The probability of getting exactly k successes in n trials is given by the binomial PMF:\n",
    "\n",
    "    P(x) = (nCx).p^x.q^(n-x)\n",
    "\n",
    "Where:\n",
    "\n",
    "P(x): Binomial Probability\n",
    "nCx is the binomial coefficient, also written as \"n choose x,\" which represents the number of ways to choose x successes from n trials.\n",
    "x: Number of times for a specific outcome within n trials\n",
    "p: Probability of success on a single trial\n",
    "q: Probability of failure on a single trial\n",
    "n: Number of trials"
   ]
  },
  {
   "cell_type": "code",
   "execution_count": 6,
   "metadata": {},
   "outputs": [
    {
     "name": "stdout",
     "output_type": "stream",
     "text": [
      "r\tP(X)\n",
      "0\t0.004096000000000003\n",
      "1\t0.03686400000000003\n",
      "2\t0.13824000000000017\n",
      "3\t0.2764800000000001\n",
      "4\t0.31104000000000026\n",
      "5\t0.1866240000000001\n",
      "6\t0.04665599999999999\n",
      "Mean = 3.5999999999999996\n",
      "Variance = 1.4399999999999995\n"
     ]
    }
   ],
   "source": [
    "\n",
    "\n",
    "# Import Necessary Libraries\n",
    "from scipy.stats import binom \n",
    "\n",
    "# Setting up all the parameters\n",
    "n = 6\n",
    "p = 0.6\n",
    "\n",
    "# defining the list of possible values\n",
    "possible_values = list(range(n + 1)) \n",
    "\n",
    "# Get the mean and variance\n",
    "mean, var = binom.stats(n, p) \n",
    "\n",
    "# Get All PMF Values\n",
    "all_pmf_values = [binom.pmf(outcome, n, p) for outcome in possible_values ] \n",
    "\n",
    "# Printing the Outcome and Probability\n",
    "print(\"Outcome\\tP(X)\") \n",
    "for i in range(n + 1): \n",
    "\tprint(str(possible_values[i]) + \"\\t\" + str(all_pmf_values[i])) \n",
    " \n",
    "# Printing Mean and Variance\n",
    "print(\"Mean = \"+str(mean)) \n",
    "print(\"Variance = \"+str(var))\n"
   ]
  }
 ],
 "metadata": {
  "kernelspec": {
   "display_name": "Python 3",
   "language": "python",
   "name": "python3"
  },
  "language_info": {
   "codemirror_mode": {
    "name": "ipython",
    "version": 3
   },
   "file_extension": ".py",
   "mimetype": "text/x-python",
   "name": "python",
   "nbconvert_exporter": "python",
   "pygments_lexer": "ipython3",
   "version": "3.10.12"
  }
 },
 "nbformat": 4,
 "nbformat_minor": 2
}
