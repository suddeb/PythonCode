{
 "cells": [
  {
   "cell_type": "code",
   "execution_count": 58,
   "metadata": {},
   "outputs": [
    {
     "name": "stdout",
     "output_type": "stream",
     "text": [
      "[1, 1, 2, 2, 1188, 2, 3, 4, 1, 2, 2]\n",
      "Mean:  109.81818181818181\n",
      "Standard Deviation:  340.95209425740796\n"
     ]
    }
   ],
   "source": [
    "import numpy as np\n",
    "\n",
    "data = [1,1,2,2,1188,2,3,4,1,2,2]\n",
    "print(data)\n",
    "\n",
    "mean = np.mean(data)\n",
    "standard_deviation = np.std(data)\n",
    "\n",
    "print('Mean: ',mean)\n",
    "print(\"Standard Deviation: \", standard_deviation)"
   ]
  },
  {
   "cell_type": "code",
   "execution_count": 59,
   "metadata": {},
   "outputs": [
    {
     "name": "stdout",
     "output_type": "stream",
     "text": [
      "[1188]\n"
     ]
    }
   ],
   "source": [
    "# Find the Outliers\n",
    "threshold = 3\n",
    "outliers = []\n",
    "for index in data:\n",
    "    z_score = (index - mean) / standard_deviation\n",
    "    if(z_score >= threshold):\n",
    "        outliers.append(index)\n",
    "print(outliers)"
   ]
  }
 ],
 "metadata": {
  "kernelspec": {
   "display_name": "Python 3",
   "language": "python",
   "name": "python3"
  },
  "language_info": {
   "codemirror_mode": {
    "name": "ipython",
    "version": 3
   },
   "file_extension": ".py",
   "mimetype": "text/x-python",
   "name": "python",
   "nbconvert_exporter": "python",
   "pygments_lexer": "ipython3",
   "version": "3.10.12"
  }
 },
 "nbformat": 4,
 "nbformat_minor": 2
}
