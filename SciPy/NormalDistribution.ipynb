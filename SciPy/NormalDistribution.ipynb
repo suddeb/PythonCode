{
 "cells": [
  {
   "cell_type": "code",
   "execution_count": 10,
   "metadata": {},
   "outputs": [],
   "source": [
    "# Creating Normal Distribution\n",
    "\n",
    "# Load SciPy's Statistical Model\n",
    "from scipy import stats\n",
    "\n",
    "# Create Mean and Standard Deviation\n",
    "mean = 35\n",
    "standard_deviation = 7.2\n",
    "\n",
    "# Create Normal Distribution\n",
    "# loc - Mean Value \n",
    "# scale - Standard Deviation Value\n",
    "normal_distribution = stats.norm(\n",
    "    loc = mean,\n",
    "    scale = standard_deviation\n",
    ")\n"
   ]
  },
  {
   "cell_type": "code",
   "execution_count": 12,
   "metadata": {},
   "outputs": [
    {
     "name": "stdout",
     "output_type": "stream",
     "text": [
      "0.0063\n"
     ]
    }
   ],
   "source": [
    "# Use PDF to understand what is the probability that the value is 40 in this normal distribution\n",
    "pdf = normal_distribution.pdf(20)\n",
    "\n",
    "print(pdf.round(4))"
   ]
  }
 ],
 "metadata": {
  "kernelspec": {
   "display_name": "Python 3",
   "language": "python",
   "name": "python3"
  },
  "language_info": {
   "codemirror_mode": {
    "name": "ipython",
    "version": 3
   },
   "file_extension": ".py",
   "mimetype": "text/x-python",
   "name": "python",
   "nbconvert_exporter": "python",
   "pygments_lexer": "ipython3",
   "version": "3.10.12"
  }
 },
 "nbformat": 4,
 "nbformat_minor": 2
}
