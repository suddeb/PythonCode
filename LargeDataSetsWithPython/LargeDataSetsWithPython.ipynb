{
 "cells": [
  {
   "cell_type": "markdown",
   "id": "87c0375b",
   "metadata": {},
   "source": [
    "# Large Excel Manipulation With Python\n",
    "Using the Kaggle Dataset: [Link](https://www.kaggle.com/datasets/mkechinov/ecommerce-events-history-in-cosmetics-shop/)"
   ]
  },
  {
   "cell_type": "code",
   "execution_count": null,
   "id": "42bcfb73",
   "metadata": {},
   "outputs": [],
   "source": [
    "#Install Kaggle\n",
    "!pip install kaggle --quiet"
   ]
  },
  {
   "cell_type": "code",
   "execution_count": null,
   "id": "3bdf1b9b",
   "metadata": {},
   "outputs": [],
   "source": [
    "!kaggle datasets list -s '2019-Dec.csv'"
   ]
  },
  {
   "cell_type": "code",
   "execution_count": null,
   "id": "ceffb149",
   "metadata": {},
   "outputs": [],
   "source": [
    "!kaggle datasets download -d 'mkechinov/ecommerce-events-history-in-cosmetics-shop' -p ../data/CosmeticsShop"
   ]
  },
  {
   "cell_type": "code",
   "execution_count": null,
   "id": "984ce21e",
   "metadata": {},
   "outputs": [],
   "source": [
    "!unzip ../data/CosmeticsShop/ecommerce-events-history-in-cosmetics-shop.zip -d ../data/CosmeticsShop/"
   ]
  },
  {
   "cell_type": "code",
   "execution_count": null,
   "id": "fe086ded",
   "metadata": {},
   "outputs": [],
   "source": [
    "!ls -ltr ../data/CosmeticsShop/"
   ]
  },
  {
   "cell_type": "code",
   "execution_count": null,
   "id": "b45c7c96",
   "metadata": {},
   "outputs": [],
   "source": [
    "import pandas as pd"
   ]
  },
  {
   "cell_type": "code",
   "execution_count": null,
   "id": "cb28b670",
   "metadata": {},
   "outputs": [],
   "source": [
    "df = pd.read_csv('../data/CosmeticsShop/2019-Dec.csv',chunksize=100000)"
   ]
  },
  {
   "cell_type": "code",
   "execution_count": null,
   "id": "743a7678",
   "metadata": {},
   "outputs": [],
   "source": [
    "output = pd.DataFrame()\n",
    "\n",
    "for chunk in df:\n",
    "    columns = ['brand','category_code','event_type']\n",
    "    details = chunk[columns]\n",
    "    details['count'] = 1\n",
    "    summary = details.groupby(columns).sum().reset_index()\n",
    "    output = pd.concat([output,summary],ignore_index=True)"
   ]
  },
  {
   "cell_type": "code",
   "execution_count": null,
   "id": "70ff7ec1",
   "metadata": {},
   "outputs": [],
   "source": [
    "output.sort_values('count')"
   ]
  },
  {
   "cell_type": "code",
   "execution_count": null,
   "id": "63f5a17c",
   "metadata": {},
   "outputs": [],
   "source": [
    "final_output = output.groupby(columns).sum().reset_index();"
   ]
  },
  {
   "cell_type": "code",
   "execution_count": null,
   "id": "4455a2c0",
   "metadata": {},
   "outputs": [],
   "source": [
    "final_output.sort_values('count')"
   ]
  },
  {
   "cell_type": "code",
   "execution_count": null,
   "id": "3d4edb0d",
   "metadata": {},
   "outputs": [],
   "source": [
    "final_output.to_csv('../data/CosmeticsShop/aggregated-cosmetics-2019-Dec.csv',index=False)"
   ]
  },
  {
   "cell_type": "code",
   "execution_count": null,
   "id": "1b9593ee",
   "metadata": {},
   "outputs": [],
   "source": [
    "ls -ltr ../data/CosmeticsShop/"
   ]
  }
 ],
 "metadata": {
  "kernelspec": {
   "display_name": ".venv",
   "language": "python",
   "name": "python3"
  },
  "language_info": {
   "codemirror_mode": {
    "name": "ipython",
    "version": 3
   },
   "file_extension": ".py",
   "mimetype": "text/x-python",
   "name": "python",
   "nbconvert_exporter": "python",
   "pygments_lexer": "ipython3",
   "version": "3.10.12"
  }
 },
 "nbformat": 4,
 "nbformat_minor": 5
}
