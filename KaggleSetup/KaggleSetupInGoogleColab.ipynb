{
  "nbformat": 4,
  "nbformat_minor": 0,
  "metadata": {
    "colab": {
      "provenance": [],
      "authorship_tag": "ABX9TyMWKJl1kCJB3efUCqK0gFOS",
      "include_colab_link": true
    },
    "kernelspec": {
      "name": "python3",
      "display_name": "Python 3"
    },
    "language_info": {
      "name": "python"
    }
  },
  "cells": [
    {
      "cell_type": "markdown",
      "metadata": {
        "id": "view-in-github",
        "colab_type": "text"
      },
      "source": [
        "<a href=\"https://colab.research.google.com/github/suddeb/PythonCode/blob/main/KaggleSetupInGoogleColab.ipynb\" target=\"_parent\"><img src=\"https://colab.research.google.com/assets/colab-badge.svg\" alt=\"Open In Colab\"/></a>"
      ]
    },
    {
      "cell_type": "code",
      "execution_count": null,
      "metadata": {
        "id": "WZ3QBbgYB6dM"
      },
      "outputs": [],
      "source": [
        "#Install Kaggle\n",
        "!pip install kaggle --quiet"
      ]
    },
    {
      "cell_type": "code",
      "source": [
        "#Upload Kaggle.Json File\n",
        "from google.colab import files\n",
        "files.upload()"
      ],
      "metadata": {
        "id": "18yiPDrbCnLv"
      },
      "execution_count": null,
      "outputs": []
    },
    {
      "cell_type": "code",
      "source": [
        "#Create the Kaggle Directory\n",
        "!mkdir ~/.kaggle"
      ],
      "metadata": {
        "id": "Rg0YnTa1DB4H"
      },
      "execution_count": null,
      "outputs": []
    },
    {
      "cell_type": "code",
      "source": [
        "#Copy the Kagge.json file\n",
        "!cp kaggle.json ~/.kaggle/"
      ],
      "metadata": {
        "id": "RXix--NIDNKD"
      },
      "execution_count": null,
      "outputs": []
    },
    {
      "cell_type": "code",
      "source": [
        "#Provide correct permission\n",
        "!chmod 600 ~/.kaggle/kaggle.json"
      ],
      "metadata": {
        "id": "nqnhPMWGDTM-"
      },
      "execution_count": null,
      "outputs": []
    },
    {
      "cell_type": "code",
      "source": [
        "#List down all the competitions\n",
        "!kaggle competitions list"
      ],
      "metadata": {
        "id": "ry5L-5_FDjns"
      },
      "execution_count": null,
      "outputs": []
    },
    {
      "cell_type": "code",
      "source": [
        "#List down all datasets\n",
        "!kaggle datasets list"
      ],
      "metadata": {
        "id": "55gE56smDxa2"
      },
      "execution_count": null,
      "outputs": []
    },
    {
      "cell_type": "code",
      "source": [
        "#Looking for specific datasets\n",
        "!kaggle datasets list -s 'student_habits_performance.csv'"
      ],
      "metadata": {
        "id": "-cdPdECvD4gq"
      },
      "execution_count": null,
      "outputs": []
    },
    {
      "cell_type": "code",
      "source": [
        "#Download the dataset\n",
        "!kaggle datasets download -d 'nasasiratomowen/student-habits-performance-csv' -p ../data/StudentHabit"
      ],
      "metadata": {
        "id": "fuIY89cVESvl"
      },
      "execution_count": null,
      "outputs": []
    },
    {
      "cell_type": "code",
      "source": [
        "#Let's verify\n",
        "!ls -ltr ../data/StudentHabit"
      ],
      "metadata": {
        "id": "B9u19dhuEYoR"
      },
      "execution_count": null,
      "outputs": []
    },
    {
      "cell_type": "code",
      "source": [
        "#Unzip the dataset\n",
        "!unzip ../data/StudentHabit/student-habits-performance-csv.zip -d ../data/StudentHabit"
      ],
      "metadata": {
        "id": "pZYy7pNQEesR"
      },
      "execution_count": null,
      "outputs": []
    },
    {
      "cell_type": "code",
      "source": [
        "!chmod 777 ../data/StudentHabit/student_habits_performance.csv"
      ],
      "metadata": {
        "id": "qg6QdgeTFJim"
      },
      "execution_count": null,
      "outputs": []
    },
    {
      "cell_type": "code",
      "source": [
        "#Let's read the file\n",
        "import pandas as pd;\n",
        "df = pd.read_csv('../data/StudentHabit/student_habits_performance.csv')\n",
        "df.head()"
      ],
      "metadata": {
        "id": "Y5u4-wHVFAd7"
      },
      "execution_count": null,
      "outputs": []
    }
  ]
}