{
  "cells": [
    {
      "cell_type": "markdown",
      "metadata": {
        "colab_type": "text",
        "id": "view-in-github"
      },
      "source": [
        "<a href=\"https://colab.research.google.com/github/suddeb/PythonCode/blob/main/KaggleSetupInGoogleColab.ipynb\" target=\"_parent\"><img src=\"https://colab.research.google.com/assets/colab-badge.svg\" alt=\"Open In Colab\"/></a>"
      ]
    },
    {
      "cell_type": "code",
      "execution_count": 1,
      "metadata": {
        "id": "WZ3QBbgYB6dM"
      },
      "outputs": [],
      "source": [
        "#Install Kaggle\n",
        "!pip install kaggle --quiet"
      ]
    },
    {
      "cell_type": "code",
      "execution_count": null,
      "metadata": {
        "id": "18yiPDrbCnLv"
      },
      "outputs": [],
      "source": [
        "#Upload Kaggle.Json File\n",
        "from google.colab import files\n",
        "files.upload()"
      ]
    },
    {
      "cell_type": "code",
      "execution_count": null,
      "metadata": {
        "id": "Rg0YnTa1DB4H"
      },
      "outputs": [],
      "source": [
        "#Create the Kaggle Directory\n",
        "!mkdir ~/.kaggle"
      ]
    },
    {
      "cell_type": "code",
      "execution_count": null,
      "metadata": {
        "id": "RXix--NIDNKD"
      },
      "outputs": [],
      "source": [
        "#Copy the Kagge.json file\n",
        "!cp kaggle.json ~/.kaggle/"
      ]
    },
    {
      "cell_type": "code",
      "execution_count": null,
      "metadata": {
        "id": "nqnhPMWGDTM-"
      },
      "outputs": [],
      "source": [
        "#Provide correct permission\n",
        "!chmod 600 ~/.kaggle/kaggle.json"
      ]
    },
    {
      "cell_type": "code",
      "execution_count": null,
      "metadata": {
        "id": "ry5L-5_FDjns"
      },
      "outputs": [],
      "source": [
        "#List down all the competitions\n",
        "!kaggle competitions list"
      ]
    },
    {
      "cell_type": "code",
      "execution_count": null,
      "metadata": {
        "id": "55gE56smDxa2"
      },
      "outputs": [],
      "source": [
        "#List down all datasets\n",
        "!kaggle datasets list"
      ]
    },
    {
      "cell_type": "code",
      "execution_count": null,
      "metadata": {
        "id": "-cdPdECvD4gq"
      },
      "outputs": [],
      "source": [
        "#Looking for specific datasets\n",
        "!kaggle datasets list -s 'student_habits_performance.csv'"
      ]
    },
    {
      "cell_type": "code",
      "execution_count": null,
      "metadata": {
        "id": "fuIY89cVESvl"
      },
      "outputs": [],
      "source": [
        "#Download the dataset\n",
        "!kaggle datasets download -d 'nasasiratomowen/student-habits-performance-csv' -p ../data/StudentHabit"
      ]
    },
    {
      "cell_type": "code",
      "execution_count": null,
      "metadata": {
        "id": "B9u19dhuEYoR"
      },
      "outputs": [],
      "source": [
        "#Let's verify\n",
        "!ls -ltr ../data/StudentHabit"
      ]
    },
    {
      "cell_type": "code",
      "execution_count": null,
      "metadata": {
        "id": "pZYy7pNQEesR"
      },
      "outputs": [],
      "source": [
        "#Unzip the dataset\n",
        "!unzip ../data/StudentHabit/student-habits-performance-csv.zip -d ../data/StudentHabit"
      ]
    },
    {
      "cell_type": "code",
      "execution_count": null,
      "metadata": {
        "id": "qg6QdgeTFJim"
      },
      "outputs": [],
      "source": [
        "!chmod 777 ../data/StudentHabit/student_habits_performance.csv"
      ]
    },
    {
      "cell_type": "code",
      "execution_count": null,
      "metadata": {
        "id": "Y5u4-wHVFAd7"
      },
      "outputs": [],
      "source": [
        "#Let's read the file\n",
        "import pandas as pd;\n",
        "df = pd.read_csv('../data/StudentHabit/student_habits_performance.csv')\n",
        "df.head()"
      ]
    }
  ],
  "metadata": {
    "colab": {
      "authorship_tag": "ABX9TyMWKJl1kCJB3efUCqK0gFOS",
      "include_colab_link": true,
      "provenance": []
    },
    "kernelspec": {
      "display_name": ".venv",
      "language": "python",
      "name": "python3"
    },
    "language_info": {
      "codemirror_mode": {
        "name": "ipython",
        "version": 3
      },
      "file_extension": ".py",
      "mimetype": "text/x-python",
      "name": "python",
      "nbconvert_exporter": "python",
      "pygments_lexer": "ipython3",
      "version": "3.10.12"
    }
  },
  "nbformat": 4,
  "nbformat_minor": 0
}
