{
 "cells": [
  {
   "cell_type": "code",
   "execution_count": 1,
   "id": "d46dc5cb",
   "metadata": {},
   "outputs": [
    {
     "name": "stdout",
     "output_type": "stream",
     "text": [
      "Note: you may need to restart the kernel to use updated packages.\n"
     ]
    }
   ],
   "source": [
    "pip install kaggle --quiet"
   ]
  },
  {
   "cell_type": "code",
   "execution_count": 3,
   "id": "6a374dbd",
   "metadata": {},
   "outputs": [
    {
     "name": "stdout",
     "output_type": "stream",
     "text": [
      "Warning: Your Kaggle API key is readable by other users on this system! To fix this, you can run 'chmod 600 /Users/sudiptadeb/.kaggle/kaggle.json'\n",
      "ref                                                                               deadline             category                reward  teamCount  userHasEntered  \n",
      "--------------------------------------------------------------------------------  -------------------  ---------------  -------------  ---------  --------------  \n",
      "https://www.kaggle.com/competitions/arc-prize-2025                                2025-11-03 23:59:00  Featured         1,000,000 Usd        423           False  \n",
      "https://www.kaggle.com/competitions/openai-to-z-challenge                         2025-06-29 23:59:00  Featured           400,000 Usd          0           False  \n",
      "https://www.kaggle.com/competitions/stanford-rna-3d-folding                       2025-05-29 23:59:00  Featured            75,000 Usd       1503           False  \n",
      "https://www.kaggle.com/competitions/byu-locating-bacterial-flagellar-motors-2025  2025-06-04 23:59:00  Research            65,000 Usd       1106           False  \n",
      "https://www.kaggle.com/competitions/birdclef-2025                                 2025-06-05 23:59:00  Research            50,000 Usd       2029           False  \n",
      "https://www.kaggle.com/competitions/image-matching-challenge-2025                 2025-06-02 23:59:00  Research            50,000 Usd        930           False  \n",
      "https://www.kaggle.com/competitions/waveform-inversion                            2025-06-30 23:59:00  Research            50,000 Usd        765           False  \n",
      "https://www.kaggle.com/competitions/playground-series-s5e5                        2025-05-31 23:59:00  Playground                Swag       3972           False  \n",
      "https://www.kaggle.com/competitions/titanic                                       2030-01-01 00:00:00  Getting Started      Knowledge      16141            True  \n",
      "https://www.kaggle.com/competitions/home-data-for-ml-course                       2030-01-01 23:59:00  Getting Started      Knowledge       5777           False  \n",
      "https://www.kaggle.com/competitions/house-prices-advanced-regression-techniques   2030-01-01 00:00:00  Getting Started      Knowledge       4755           False  \n",
      "https://www.kaggle.com/competitions/spaceship-titanic                             2030-01-01 00:00:00  Getting Started      Knowledge       2028           False  \n",
      "https://www.kaggle.com/competitions/digit-recognizer                              2030-01-01 00:00:00  Getting Started      Knowledge       1552           False  \n",
      "https://www.kaggle.com/competitions/nlp-getting-started                           2030-01-01 00:00:00  Getting Started      Knowledge       1012           False  \n",
      "https://www.kaggle.com/competitions/store-sales-time-series-forecasting           2030-06-30 23:59:00  Getting Started      Knowledge        787           False  \n",
      "https://www.kaggle.com/competitions/llm-classification-finetuning                 2030-07-01 23:59:00  Getting Started      Knowledge        272           False  \n",
      "https://www.kaggle.com/competitions/connectx                                      2030-01-01 00:00:00  Getting Started      Knowledge        196           False  \n",
      "https://www.kaggle.com/competitions/gan-getting-started                           2030-07-01 23:59:00  Getting Started      Knowledge        130           False  \n",
      "https://www.kaggle.com/competitions/contradictory-my-dear-watson                  2030-07-01 23:59:00  Getting Started      Knowledge         73           False  \n",
      "https://www.kaggle.com/competitions/tpu-getting-started                           2030-06-03 23:59:00  Getting Started      Knowledge         37           False  \n"
     ]
    }
   ],
   "source": [
    "!kaggle competitions list"
   ]
  },
  {
   "cell_type": "code",
   "execution_count": 5,
   "id": "3ca338e0",
   "metadata": {},
   "outputs": [
    {
     "name": "stdout",
     "output_type": "stream",
     "text": [
      "Warning: Your Kaggle API key is readable by other users on this system! To fix this, you can run 'chmod 600 /Users/sudiptadeb/.kaggle/kaggle.json'\n",
      "ref                                                          title                                          size  lastUpdated                 downloadCount  voteCount  usabilityRating  \n",
      "-----------------------------------------------------------  ---------------------------------------  ----------  --------------------------  -------------  ---------  ---------------  \n",
      "nasasiratomowen/student-habits-performance-csv               student_habits_performance.csv                19512  2025-05-23 06:01:22.727000              3          0  0.23529412       \n",
      "anthonyvanslambrouck/student-habits-and-final-exam-passfail  Student Habits and Final Exam Pass/Fail       33918  2025-04-26 02:01:34                    11          1  0.3529412        \n",
      "malakhussien220/student-habits-performance                   student_habits_performance                    19512  2025-05-06 17:23:26.387000             18          0  0.29411766       \n",
      "ameesharameshan/student-habits-performance                   student_habits_performance                    19512  2025-05-03 09:09:42                    17          0  0.29411766       \n",
      "storozuhksofia/123445                                        123445                                        19512  2025-05-11 22:34:17.027000              0          0  0.23529412       \n"
     ]
    }
   ],
   "source": [
    "!kaggle datasets list -s 'student_habits_performance.csv'"
   ]
  },
  {
   "cell_type": "code",
   "execution_count": 6,
   "id": "ba4f130f",
   "metadata": {},
   "outputs": [
    {
     "name": "stdout",
     "output_type": "stream",
     "text": [
      "Warning: Your Kaggle API key is readable by other users on this system! To fix this, you can run 'chmod 600 /Users/sudiptadeb/.kaggle/kaggle.json'\n",
      "Dataset URL: https://www.kaggle.com/datasets/nasasiratomowen/student-habits-performance-csv\n",
      "License(s): CC0-1.0\n",
      "Downloading student-habits-performance-csv.zip to ../data/StudentHabit\n",
      "  0%|                                               | 0.00/19.1k [00:00<?, ?B/s]\n",
      "100%|██████████████████████████████████████| 19.1k/19.1k [00:00<00:00, 36.7MB/s]\n"
     ]
    }
   ],
   "source": [
    "!kaggle datasets download -d 'nasasiratomowen/student-habits-performance-csv' -p ../data/StudentHabit"
   ]
  },
  {
   "cell_type": "code",
   "execution_count": 7,
   "id": "d46c99e1",
   "metadata": {},
   "outputs": [
    {
     "name": "stdout",
     "output_type": "stream",
     "text": [
      "Archive:  ../data/StudentHabit/student-habits-performance-csv.zip\n",
      "  inflating: ../data/StudentHabit//student_habits_performance.csv  \n"
     ]
    }
   ],
   "source": [
    "!unzip ../data/StudentHabit/student-habits-performance-csv.zip -d ../data/StudentHabit/"
   ]
  }
 ],
 "metadata": {
  "kernelspec": {
   "display_name": ".venv",
   "language": "python",
   "name": "python3"
  },
  "language_info": {
   "codemirror_mode": {
    "name": "ipython",
    "version": 3
   },
   "file_extension": ".py",
   "mimetype": "text/x-python",
   "name": "python",
   "nbconvert_exporter": "python",
   "pygments_lexer": "ipython3",
   "version": "3.10.12"
  }
 },
 "nbformat": 4,
 "nbformat_minor": 5
}
